{
 "cells": [
  {
   "cell_type": "code",
   "execution_count": 1,
   "metadata": {},
   "outputs": [],
   "source": [
    "import json\n",
    "from shapely.geometry import shape, MultiPolygon, Polygon\n",
    "from shapely.ops import unary_union\n",
    "import pandas as pd\n",
    "import json\n",
    "from shapely.geometry import Point, Polygon, MultiPolygon\n",
    "import pandas as pd\n",
    "# from shapely.geometry import shape,Point, Polygon, MultiPolygon\n",
    "from shapely.ops import transform\n",
    "from pyproj import Transformer\n",
    "import json  \n",
    "from geopy.distance import geodesic \n",
    "from tqdm import tqdm \n",
    "import pandas as pd \n",
    "import numpy as np"
   ]
  },
  {
   "cell_type": "code",
   "execution_count": 2,
   "metadata": {},
   "outputs": [
    {
     "name": "stderr",
     "output_type": "stream",
     "text": [
      "100%|██████████| 297/297 [00:03<00:00, 80.14it/s] \n"
     ]
    }
   ],
   "source": [
    "adm2_data_pd = pd.read_excel('input_data/economy_attractions.xlsx')\n",
    "\n",
    "adm2_data = adm2_data_pd.to_dict(orient='records')\n",
    "distances = {}\n",
    "\n",
    "for i, place1 in tqdm(enumerate(adm2_data), total=len(adm2_data)):\n",
    "    place1_key = f\"{place1['id']}\"\n",
    "    distances[place1_key] = {}\n",
    "    for j, place2 in enumerate(adm2_data[i+1:]):\n",
    "        place2_key = f\"{place2['id']}\"\n",
    "        dist = geodesic((place1['Latitude'], place1['Longitude']),\n",
    "                        (place2['Latitude'], place2['Longitude'])).km\n",
    "        distances[place1_key][place2_key] = dist\n",
    "        \n",
    "with open('data/adm2_distances.txt', 'w') as f:\n",
    "    for place1, dist_dict in distances.items():\n",
    "        for place2, dist in dist_dict.items():\n",
    "            f.write(f\"{place1}\\t{place2}\\t{dist:.2f}\\n\")"
   ]
  },
  {
   "cell_type": "code",
   "execution_count": 3,
   "metadata": {},
   "outputs": [],
   "source": [
    "transportation_data_pd = pd.read_excel('input_data/transportation.xlsx')\n",
    "\n",
    "adm2_data_pd = pd.merge(\n",
    "    adm2_data_pd,\n",
    "    transportation_data_pd[['id', 'Has Train Station', 'Has Airport']],\n",
    "    on='id',\n",
    "    how='left'\n",
    ")\n",
    "adm2_data_pd.to_excel('data/transportation_economy_attractions.xlsx', index=False)"
   ]
  },
  {
   "cell_type": "code",
   "execution_count": 4,
   "metadata": {},
   "outputs": [],
   "source": [
    "adm2_transportation_economy_attractions=pd.read_excel('data/transportation_economy_attractions.xlsx')\n",
    "adm2_transportation_economy_attractions['id'] = adm2_transportation_economy_attractions['id'].astype(str)\n",
    "adm2_area = dict(zip(adm2_transportation_economy_attractions['id'], adm2_transportation_economy_attractions['Area']))\n",
    "# adm2_transportation_economy_attractions[['total_attractions', 'total_reviews', 'five_score', 'four_score', 'three_score', 'two_score', 'one_score']] = adm2_transportation_economy_attractions[['total_attractions', 'total_reviews', 'five_score', 'four_score', 'three_score', 'two_score', 'one_score']].fillna(0)\n",
    "adm2_transportation_economy_attractions['tourism_quality'] = (\n",
    "    10 * adm2_transportation_economy_attractions['5A'] +\n",
    "    6 * adm2_transportation_economy_attractions['4A'] +\n",
    "    2 * adm2_transportation_economy_attractions['3A']\n",
    ")\n",
    "\n",
    "adm2_transportation_economy_attractions['Population'] = adm2_transportation_economy_attractions['Population'].replace(',', '', regex=True).astype(float)\n",
    "adm2_transportation_economy_attractions['GDP'] = adm2_transportation_economy_attractions['GDP'].replace(',', '', regex=True).astype(float)\n",
    "\n",
    "adm2_population = dict(zip(adm2_transportation_economy_attractions['id'], adm2_transportation_economy_attractions['Population']))\n",
    "adm2_income = dict(zip(adm2_transportation_economy_attractions['id'], adm2_transportation_economy_attractions['GDP']))\n",
    "adm2_tourism_quality = dict(zip(adm2_transportation_economy_attractions['id'], adm2_transportation_economy_attractions['tourism_quality']))\n",
    "adm2_transportation_economy_attractions['id'] = adm2_transportation_economy_attractions['id'].astype(int)\n",
    "        \n",
    "adm2_distances = {}\n",
    "with open('data/adm2_distances.txt', 'r') as f:\n",
    "    for line in f:\n",
    "        place1, place2, dist = line.strip().split('\\t')\n",
    "        dist = float(dist)\n",
    "        if place1 not in adm2_distances:\n",
    "            adm2_distances[place1] = {}\n",
    "        if place2 not in adm2_distances:\n",
    "            adm2_distances[place2] = {}\n",
    "        adm2_distances[place1][place2] = dist\n",
    "        adm2_distances[place2][place1] = dist"
   ]
  },
  {
   "cell_type": "code",
   "execution_count": 5,
   "metadata": {},
   "outputs": [],
   "source": [
    "with open('data/population_attraction_scores.txt', 'w') as f:\n",
    "    for place1, dist_dict in adm2_distances.items():\n",
    "        if place1 in adm2_population:\n",
    "            pop1 = adm2_population[place1]\n",
    "            total_score = 0\n",
    "            for place2, dist in dist_dict.items():\n",
    "                if place2 in adm2_population and dist > 0:\n",
    "                    pop2 = adm2_population[place2]\n",
    "                    score = (pop1 * pop2) / dist\n",
    "                    total_score += score\n",
    "            f.write(f\"{place1}\\t{total_score:.2f}\\n\")\n",
    "            \n",
    "with open('data/tourism_attraction_scores.txt', 'w') as f:\n",
    "    for place1, dist_dict in adm2_distances.items():\n",
    "        if place1 in adm2_tourism_quality:\n",
    "            pop1 = adm2_tourism_quality[place1]\n",
    "            total_score = 0\n",
    "            for place2, dist in dist_dict.items():\n",
    "                if place2 in adm2_tourism_quality and dist > 0:\n",
    "                    pop2 = adm2_tourism_quality[place2]\n",
    "                    score = (pop1 * pop2) / dist\n",
    "                    total_score += score\n",
    "            f.write(f\"{place1}\\t{total_score:.2f}\\n\")\n",
    "            \n",
    "            \n",
    "def self_potential(GDP_i, area_i):\n",
    "    return GDP_i / ((2 / 3) * np.sqrt(area_i / np.pi))\n",
    "\n",
    "\n",
    "HMP = {}\n",
    "for place1 in adm2_income:\n",
    "    GDP_i = adm2_income[place1]\n",
    "    area_i = adm2_area[place1]\n",
    "\n",
    "    potential_sum = 0\n",
    "    for place2, dist in adm2_distances.get(place1, {}).items():\n",
    "        if place1 != place2:\n",
    "            GDP_j = adm2_income[place2]\n",
    "            potential_sum += GDP_j / dist\n",
    "    \n",
    "    self_term = self_potential(GDP_i, area_i)\n",
    "    \n",
    "    HMP[place1] = potential_sum + self_term\n",
    "\n",
    "HMP_df = pd.DataFrame(list(HMP.items()), columns=['adm_code', 'HMP'])\n",
    "HMP_df.to_csv('data/harris_market_potential.txt', sep='\\t', index=False, header=False)"
   ]
  },
  {
   "cell_type": "code",
   "execution_count": 6,
   "metadata": {},
   "outputs": [],
   "source": [
    "population_attraction_scores = pd.read_csv('data/population_attraction_scores.txt', sep='\\t', header=None, names=['id', 'population_attraction_score'])\n",
    "tourism_attraction_scores = pd.read_csv('data/tourism_attraction_scores.txt', sep='\\t', header=None, names=['id', 'tourism_attraction_scores'])\n",
    "harris_market_potential = pd.read_csv('data/harris_market_potential.txt', sep='\\t', header=None, names=['id', 'harris_market_potential'])\n",
    "\n",
    "merged_data = pd.merge(adm2_transportation_economy_attractions, population_attraction_scores, on='id', how='left')\n",
    "merged_data = pd.merge(merged_data, tourism_attraction_scores, on='id', how='left')\n",
    "merged_data = pd.merge(merged_data, harris_market_potential , on='id', how='left')\n",
    "\n",
    "merged_data = merged_data.rename(columns={\n",
    "    'city_name': 'ADM2',\n",
    "    'id': 'id'\n",
    "})\n",
    "merged_data.to_excel('data/final_scores.xlsx', index=False)"
   ]
  }
 ],
 "metadata": {
  "kernelspec": {
   "display_name": "base",
   "language": "python",
   "name": "python3"
  },
  "language_info": {
   "codemirror_mode": {
    "name": "ipython",
    "version": 3
   },
   "file_extension": ".py",
   "mimetype": "text/x-python",
   "name": "python",
   "nbconvert_exporter": "python",
   "pygments_lexer": "ipython3",
   "version": "3.12.9"
  }
 },
 "nbformat": 4,
 "nbformat_minor": 2
}
