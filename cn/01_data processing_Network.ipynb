{
 "cells": [
  {
   "cell_type": "code",
   "execution_count": 1,
   "metadata": {},
   "outputs": [],
   "source": [
    "import pandas as pd\n",
    "import networkx as nx\n",
    "from pypinyin import pinyin, Style"
   ]
  },
  {
   "cell_type": "code",
   "execution_count": 2,
   "metadata": {},
   "outputs": [],
   "source": [
    "data=pd.read_excel('data/comment_data.xlsx')\n",
    "data['city'] = data['city_cn'].str.replace('市', '').apply(lambda x: pinyin(x, style=Style.NORMAL)[0][0].capitalize() + ''.join(p[0] for p in pinyin(x, style=Style.NORMAL)[1:]))\n",
    "\n",
    "city_table_df = pd.read_excel(\"data/final_scores.xlsx\")\n",
    "city_table_df['city'] = city_table_df['city_cn'].str.replace('市', '').apply(lambda x: pinyin(x, style=Style.NORMAL)[0][0].capitalize() + ''.join(p[0] for p in pinyin(x, style=Style.NORMAL)[1:]))\n",
    "\n",
    "\n",
    "data = pd.merge(\n",
    "    data,\n",
    "    city_table_df[['city_cn','id']],\n",
    "    on=['city_cn'],\n",
    "    how='left'\n",
    ")"
   ]
  },
  {
   "cell_type": "code",
   "execution_count": 3,
   "metadata": {},
   "outputs": [],
   "source": [
    "data['Date Created'] = None\n",
    "\n",
    "for i in reversed(range(len(data))):\n",
    "    if pd.notnull(data.loc[i, 'time']): \n",
    "        start_date_str, end_date_str = data.loc[i, 'time'].split('-')\n",
    "        start_date_month, start_date_day = map(int, start_date_str.split('.'))\n",
    "        \n",
    "        date_created = pd.Timestamp(year=2022, month=start_date_month, day=start_date_day + 1)\n",
    "        \n",
    "        data.loc[i, 'Date Created'] = date_created\n",
    "        j = i - 1\n",
    "        while j >= 0 and pd.isnull(data.loc[j, 'time']):\n",
    "            data.loc[j, 'Date Created'] = date_created\n",
    "            j -= 1\n",
    "\n",
    "data.to_excel('data/comment_data_filter.xlsx',index=False)"
   ]
  },
  {
   "cell_type": "markdown",
   "metadata": {},
   "source": [
    "# construct networks"
   ]
  },
  {
   "cell_type": "code",
   "execution_count": 4,
   "metadata": {},
   "outputs": [],
   "source": [
    "city_table_df['mention_count'] = 0\n",
    "\n",
    "users = data['user ID'].tolist()\n",
    "cities = data['id'].tolist()\n",
    "city_relations = set()\n",
    "for user in set(users):\n",
    "    user_cities = {cities[i] for i in range(len(users)) if users[i] == user}\n",
    "    for city1 in user_cities:\n",
    "        for city2 in user_cities:\n",
    "            if city1 != city2:\n",
    "                city_relations.add(tuple(sorted((city1, city2))))\n",
    "                \n",
    "                \n",
    "relation_table = [(source, target) for source, target in city_relations]\n",
    "relation_df = pd.DataFrame(relation_table, columns=['source', 'target'])\n",
    "                \n",
    "\n",
    "relation_df.to_excel(\"results/city_relations.xlsx\", index=False)"
   ]
  },
  {
   "cell_type": "code",
   "execution_count": 5,
   "metadata": {},
   "outputs": [],
   "source": [
    "city_counts = data['id'].value_counts().reset_index()\n",
    "city_counts.columns = ['id', 'mention_count']\n",
    "\n",
    "mention_count_map = dict(zip(city_counts['id'], city_counts['mention_count']))\n",
    "\n",
    "city_table_df['mention_count'] = city_table_df['id'].map(mention_count_map).fillna(0)\n",
    "city_table_df = city_table_df[city_table_df['mention_count']!=0]\n",
    "G = nx.Graph()\n",
    "G.add_edges_from(city_relations)\n",
    "\n",
    "degree_dict = dict(G.degree())\n",
    "degree_centrality = nx.degree_centrality(G)\n",
    "betweenness_centrality = nx.betweenness_centrality(G)\n",
    "closeness_centrality = nx.closeness_centrality(G)\n",
    "\n",
    "\n",
    "city_table_df['Degree'] = city_table_df['id'].map(degree_dict).fillna(0)\n",
    "city_table_df['Degree Centrality'] = city_table_df['id'].map(degree_centrality).fillna(0)\n",
    "city_table_df['Betweenness Centrality'] = city_table_df['id'].map(betweenness_centrality).fillna(0)\n",
    "city_table_df['Closeness Centrality'] = city_table_df['id'].map(closeness_centrality).fillna(0)\n",
    "\n",
    "\n",
    "city_table_df['Degree Rank'] = city_table_df['Degree'].rank(ascending=False, method='min')\n",
    "city_table_df['Degree Centrality Rank'] = city_table_df['Degree Centrality'].rank(ascending=False, method='min')\n",
    "city_table_df['Betweenness Centrality Rank'] = city_table_df['Betweenness Centrality'].rank(ascending=False, method='min')\n",
    "city_table_df['Closeness Centrality Rank'] = city_table_df['Closeness Centrality'].rank(ascending=False, method='min')\n",
    "city_table_df['mention_count Rank'] = city_table_df['mention_count'].rank(ascending=False, method='min')\n",
    "city_table_df['GDP Rank'] = city_table_df['GDP'].rank(ascending=False, method='min')\n",
    "city_table_df['Population Rank'] = city_table_df['Population'].rank(ascending=False, method='min')\n",
    "\n",
    "\n",
    "first_columns = ['id', 'city', 'mention_count', 'GDP', 'Population', 'Degree Centrality', 'Betweenness Centrality', 'Closeness Centrality']\n",
    "other_columns = [col for col in city_table_df.columns if col not in first_columns]\n",
    "city_table_df = city_table_df[first_columns + other_columns]\n",
    "city_table_df = city_table_df.rename(columns={'city': 'ADM2'})\n",
    "city_table_df['mention_count'] = city_table_df['mention_count'].astype(float)\n",
    "city_table_df['GDP'] = city_table_df['GDP'].astype(float)\n",
    "city_table_df['Population'] = city_table_df['Population'].astype(float)\n",
    "city_table_df.to_excel(\"results/city_table_count.xlsx\", index=False)\n",
    "data['id'] = data['id'].apply(lambda x: [x])\n",
    "data.to_excel('data/processed_comments_with_ids.xlsx',index=False)"
   ]
  }
 ],
 "metadata": {
  "kernelspec": {
   "display_name": "base",
   "language": "python",
   "name": "python3"
  },
  "language_info": {
   "codemirror_mode": {
    "name": "ipython",
    "version": 3
   },
   "file_extension": ".py",
   "mimetype": "text/x-python",
   "name": "python",
   "nbconvert_exporter": "python",
   "pygments_lexer": "ipython3",
   "version": "3.12.9"
  }
 },
 "nbformat": 4,
 "nbformat_minor": 2
}
