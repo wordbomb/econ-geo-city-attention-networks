{
 "cells": [
  {
   "cell_type": "code",
   "execution_count": 1,
   "metadata": {},
   "outputs": [],
   "source": [
    "from bs4 import BeautifulSoup\n",
    "from random import randint\n",
    "import util\n",
    "import json\n",
    "import pandas as pd\n",
    "import requests\n",
    "from tqdm import tqdm  # Import tqdm for progress bars\n",
    "import re\n",
    "import time\n",
    "import requests\n",
    "import multiprocessing\n",
    "import concurrent.futures\n",
    "import threading\n",
    "import os"
   ]
  },
  {
   "cell_type": "markdown",
   "metadata": {},
   "source": [
    "# 配置文件"
   ]
  },
  {
   "cell_type": "code",
   "execution_count": 12,
   "metadata": {},
   "outputs": [],
   "source": [
    "headers = {\n",
    "    'accept':'text/html,application/xhtml+xml,application/xml;q=0.9,image/avif,image/webp,image/apng,*/*;q=0.8,application/signed-exchange;v=b3;q=0.7',\n",
    "    'accept-encoding':'gzip, deflate, br, zstd',\n",
    "    # 'accept-language':'zh-CN,zh;q=0.9,en;q=0.8,en-GB;q=0.7,en-US;q=0.6',\n",
    "    # 'accept-language':'q=0.9,en;q=0.8,en-GB;q=0.7,en-US;q=0.6',\n",
    "    'accept-language':'q=0.7,en-US',\n",
    "    'cache-control':'max-age=0',\n",
    "    'cookie':'TASameSite=1; TAUnique=%1%enc%3AaTBVNwCrhHfkPBpt7vYjxRpi%2BJuDQu7hUTuZczprIO9zFjCvGMKCfk9BZRDpKQ8KNox8JbUSTxk%3D; TASSK=enc%3AAKEAkk8a3%2BlkXoGpTmaS5H6zaFIMz8m%2FGJ%2BOJFKj9I3wQxYJMNujpISgDDnQ9p%2F9zz0DoL4wFLTw9lragbXtYzGeZsSTsNII0FIknuqGSH7H4NE0WBAO%2FEjVDQT1UH46Zg%3D%3D; _gcl_au=1.1.219737643.1723017439; _ga=GA1.1.2059726874.1723017439; pbjs_sharedId=7453f3b5-0491-4f0f-ac1b-e49185581452; pbjs_sharedId_cst=zix7LPQsHA%3D%3D; _lc2_fpi=b140173de591--01j4p3gph49fm9jcx7znqb9bmv; _lc2_fpi_meta=%7B%22w%22%3A1723023776292%7D; _lr_env_src_ats=false; pbjs_unifiedID=%7B%22TDID%22%3A%2270a5a794-8336-4e08-9d8e-e125a473bb76%22%2C%22TDID_LOOKUP%22%3A%22FALSE%22%2C%22TDID_CREATED_AT%22%3A%222024-08-07T09%3A43%3A04%22%7D; pbjs_unifiedID_cst=zix7LPQsHA%3D%3D; TATravelInfo=V2*A.2*MG.-1*HP.2*FL.3*DSM.1723184363798*RS.1; VRMCID=%1%V1*id.13091*llp.%2FHotels-g190311-Malta-Hotels%5C.html*e.1725255609819; TADCID=ef2iATodYesJgk3CABQCrj-Ib21-TgWwDB4AzTFpg3_lSKQ2yjoWHHJNS9cu1_w6y880BKV51ErRYDsR7P4wD4Gs_F1_BFzJ5EM; PMC=V2*MS.40*MD.20240807*LD.20240829; TART=%1%enc%3A%2BFl0%2BUPBlkwf0jWD%2BV9HLRlqgSiQ%2Bc5dB4mUxBUObDt2hV0sIrnN5R6h3J39%2BSzcX36YStu%2Fv50%3D; _lr_sampling_rate=100; pbjs_li_nonid=%7B%7D; pbjs_li_nonid_cst=zix7LPQsHA%3D%3D; TATrkConsent=eyJvdXQiOiJTT0NJQUxfTUVESUEiLCJpbiI6IkFEVixBTkEsRlVOQ1RJT05BTCJ9; ServerPool=A; PAC=AH5ScZnfdeVWYrJ9MG6KxLIDIUWn6hS1b61Bd7CKCv3DIAr8ftMAyVaat3GNmfNl5ZFRjP4vK5SBeWHpKT5nY8fJyxwDRCQbcbu9fhUosdrVA6GvcZsgb_VoTGnJPNAAE6G8lAw6SOm_bBqI4AodC9RYM3VQ0bt0HslxRM7KU50a; TAReturnTo=%1%%2FShowForum-g28973-i480-o4480-Wyoming.html; __gads=ID=1db0cf5b52d49668:T=1723017442:RT=1724990338:S=ALNI_MbXx99shQfo3MWfbtURUDQ8xgSEtQ; __gpi=UID=00000eb7f3bb6825:T=1723017442:RT=1724990338:S=ALNI_Mb4iYgm-MKKhVrH3Uw4pXACXorI7g; __eoi=ID=241b05ad90b5daac:T=1723017442:RT=1724990338:S=AA-AfjY-IFdiTrToQKqA_bTQ4_xV; roybatty=TNI1625!ADzPd4c%2BLYgXihVDpB7heWwVORwQwJMAaiS2L5BJKbCH15KIQLF7CjiGf3Nr88GUVyzZAAc%2Fa%2BxxPbQ%2B8nRMgdAS9cPAuhMfm5BgBTveKRRRcj6QwaxQit%2BeLz1r4CiIolxwcNWnAkOgYxV58bqqKp886HrfPZrddUNPF%2BtDjBRt2Pme1FcVpWPuuCbPja28BQ%3D%3D%2C1; TASession=V2ID.32F5425C6AD445A89C619F2DBDF3AA45*SQ.37*LS.DemandLoadAjax*HS.recommended*ES.popularity*DS.5*SAS.popularity*FPS.oldFirst*FA.1*DF.0*TRA.true*LD.28973*EAU._; TAUD=LA-1723017462509-1*RDD-1-2024_08_07*ARDD-166901287-2024_08_14.2024_08_22*HD-166923832-2024_08_14.2024_08_22*VRD-166923833-2024_08_14.2024_08_22*ARC-1915184495*FO-1972880420-NKG*FD-1972880421-JAC*LG-1972883177-2.1.F.*LD-1972883178-.....; OptanonConsent=isGpcEnabled=0&datestamp=Fri+Aug+30+2024+11%3A59%3A06+GMT%2B0800+(%E4%B8%AD%E5%9B%BD%E6%A0%87%E5%87%86%E6%97%B6%E9%97%B4)&version=202405.2.0&browserGpcFlag=0&isIABGlobal=false&hosts=&consentId=23f22345-72cd-4fa3-a92c-c4ec752396f0&interactionCount=1&landingPath=NotLandingPage&groups=C0001%3A1%2CC0002%3A1%2CC0003%3A1%2CC0004%3A1&AwaitingReconsent=false&isAnonUser=1; _gcl_aw=GCL.1724990347.null; ab.storage.deviceId.6e55efa5-e689-47c3-a55b-e6d7515a6c5d=%7B%22g%22%3A%22c83e2efe-cb89-b1fa-3699-726a5a2f9d4e%22%2C%22c%22%3A1723017439485%2C%22l%22%3A1724990346750%7D; ab.storage.sessionId.6e55efa5-e689-47c3-a55b-e6d7515a6c5d=%7B%22g%22%3A%22e249ea6b-3adc-54b9-97ca-369e985a046a%22%2C%22e%22%3A1724990362167%2C%22c%22%3A1724990346749%2C%22l%22%3A1724990347167%7D; _ga_QX0Q50ZC9P=GS1.1.1724989783.54.1.1724990347.51.0.0; datadome=yg9eS1SeKMqyolnhna6CxFWGowOgnk8s7Na6g2UD0CHITFj0BqN8VOPIAQCG7BwGrEPG5ohkUhMn2q0tAWtQHJo8qCPsk0O~UhljB3GuHbJKoqOuNHUg1sz_nC135mlr',\n",
    "    'sec-ch-ua-mobile':'?0',\n",
    "    'sec-ch-ua-model':'\"\"',\n",
    "    'sec-ch-ua-platform':'\"Windows\"',\n",
    "    'sec-fetch-dest':'document',\n",
    "    'sec-fetch-mode':'navigate',\n",
    "    'sec-fetch-site':'same-origin',\n",
    "    'sec-fetch-user':'?1',\n",
    "    'upgrade-insecure-requests':'1',\n",
    "    'user-agent':'Mozilla/5.0 (Windows NT 10.0; Win64; x64) AppleWebKit/537.36 (KHTML, like Gecko) Chrome/127.0.0.0 Safari/537.36 Edg/127.0.0.0'\n",
    "}"
   ]
  },
  {
   "cell_type": "markdown",
   "metadata": {},
   "source": [
    "# 配置代理的服务"
   ]
  },
  {
   "cell_type": "code",
   "execution_count": 13,
   "metadata": {},
   "outputs": [
    {
     "name": "stdout",
     "output_type": "stream",
     "text": [
      "第一次获取代理，需要几分钟验证代理可用性\n",
      "拿到通过检验的代理，共 300 个，包括 [{'http': 'http://104.207.34.61:3128'}, {'http': 'http://206.206.73.145:6761'}, {'http': 'http://45.41.160.212:6194'}, {'http': 'http://104.165.127.77:3128'}, {'http': 'http://157.100.57.180:999'}, {'http': 'http://156.239.53.86:3128'}, {'http': 'http://104.165.169.20:3128'}, {'http': 'http://104.232.211.125:5738'}, {'http': 'http://206.206.124.235:6816'}, {'http': 'http://116.74.80.134:8080'}, {'http': 'http://154.202.111.229:3128'}, {'http': 'http://104.207.42.197:3128'}, {'http': 'http://104.207.33.245:3128'}, {'http': 'http://104.239.105.43:6573'}, {'http': 'http://154.202.115.209:3128'}, {'http': 'http://154.202.124.181:3128'}, {'http': 'http://154.202.117.167:3128'}, {'http': 'http://43.245.117.116:5700'}, {'http': 'http://156.239.50.14:3128'}, {'http': 'http://103.234.28.50:9091'}, {'http': 'http://177.70.174.103:8080'}, {'http': 'http://206.206.118.154:6392'}, {'http': 'http://104.207.39.98:3128'}, {'http': 'http://156.239.49.83:3128'}, {'http': 'http://104.207.45.46:3128'}, {'http': 'http://104.165.127.45:3128'}, {'http': 'http://154.202.127.4:3128'}, {'http': 'http://45.41.162.233:6870'}, {'http': 'http://51.79.71.106:8080'}, {'http': 'http://104.207.44.130:3128'}, {'http': 'http://104.207.34.51:3128'}, {'http': 'http://162.214.165.203:80'}, {'http': 'http://47.238.60.156:8008'}, {'http': 'http://102.130.125.86:80'}, {'http': 'http://188.132.222.55:8080'}, {'http': 'http://8.213.151.128:3128'}, {'http': 'http://104.143.250.183:5815'}, {'http': 'http://156.239.50.210:3128'}, {'http': 'http://107.173.137.65:6319'}, {'http': 'http://157.100.7.218:999'}, {'http': 'http://104.165.127.28:3128'}, {'http': 'http://154.31.200.174:6666'}, {'http': 'http://104.207.53.65:3128'}, {'http': 'http://104.207.58.48:3128'}, {'http': 'http://104.207.45.132:3128'}, {'http': 'http://104.207.48.214:3128'}, {'http': 'http://154.202.124.139:3128'}, {'http': 'http://58.136.238.61:8080'}, {'http': 'http://50.239.72.17:80'}, {'http': 'http://154.202.124.115:3128'}, {'http': 'http://104.207.38.11:3128'}, {'http': 'http://107.173.137.134:6388'}, {'http': 'http://104.164.183.103:3128'}, {'http': 'http://156.239.48.213:3128'}, {'http': 'http://103.237.144.232:1311'}, {'http': 'http://38.154.194.216:9629'}, {'http': 'http://154.29.239.29:6068'}, {'http': 'http://108.170.12.12:80'}, {'http': 'http://154.202.127.170:3128'}, {'http': 'http://156.239.55.119:3128'}, {'http': 'http://104.207.39.57:3128'}, {'http': 'http://198.199.86.11:8080'}, {'http': 'http://156.239.53.34:3128'}, {'http': 'http://154.202.117.29:3128'}, {'http': 'http://104.164.183.159:3128'}, {'http': 'http://154.29.239.112:6151'}, {'http': 'http://104.207.51.188:3128'}, {'http': 'http://154.202.127.208:3128'}, {'http': 'http://104.207.53.85:3128'}, {'http': 'http://104.232.209.21:5979'}, {'http': 'http://104.207.49.197:3128'}, {'http': 'http://45.141.81.202:6262'}, {'http': 'http://8.209.96.245:8443'}, {'http': 'http://104.207.43.53:3128'}, {'http': 'http://103.116.82.136:8080'}, {'http': 'http://104.207.38.22:3128'}, {'http': 'http://154.202.117.23:3128'}, {'http': 'http://104.207.58.125:3128'}, {'http': 'http://103.133.61.18:8181'}, {'http': 'http://47.76.132.77:1080'}, {'http': 'http://156.239.55.215:3128'}, {'http': 'http://104.207.49.64:3128'}, {'http': 'http://154.202.123.74:3128'}, {'http': 'http://161.123.93.181:5911'}, {'http': 'http://156.239.55.223:3128'}, {'http': 'http://104.252.131.217:3128'}, {'http': 'http://154.202.124.21:3128'}, {'http': 'http://104.165.127.135:3128'}, {'http': 'http://154.202.124.221:3128'}, {'http': 'http://64.64.115.66:5701'}, {'http': 'http://45.61.118.250:5947'}, {'http': 'http://104.252.131.61:3128'}, {'http': 'http://104.207.34.145:3128'}, {'http': 'http://154.202.114.176:3128'}, {'http': 'http://104.252.131.45:3128'}, {'http': 'http://154.202.117.241:3128'}, {'http': 'http://64.64.118.182:6765'}, {'http': 'http://64.64.118.48:6631'}, {'http': 'http://164.163.185.199:80'}, {'http': 'http://104.238.50.243:6789'}, {'http': 'http://156.239.53.109:3128'}, {'http': 'http://104.207.32.58:3128'}, {'http': 'http://104.164.183.224:3128'}, {'http': 'http://156.239.53.63:3128'}, {'http': 'http://95.216.78.251:3128'}, {'http': 'http://154.202.111.113:3128'}, {'http': 'http://200.55.255.251:8083'}, {'http': 'http://104.207.61.51:3128'}, {'http': 'http://45.61.127.191:6130'}, {'http': 'http://119.157.83.34:8080'}, {'http': 'http://104.165.169.18:3128'}, {'http': 'http://45.41.177.190:5840'}, {'http': 'http://104.165.169.20:3128'}, {'http': 'http://104.165.127.245:3128'}, {'http': 'http://156.239.49.10:3128'}, {'http': 'http://104.207.38.70:3128'}, {'http': 'http://5.42.72.98:3128'}, {'http': 'http://181.196.254.201:999'}, {'http': 'http://64.64.118.5:6588'}, {'http': 'http://156.239.52.115:3128'}, {'http': 'http://104.252.131.179:3128'}, {'http': 'http://104.238.49.110:5764'}, {'http': 'http://154.236.177.100:1977'}, {'http': 'http://43.245.116.147:6662'}, {'http': 'http://159.203.61.169:8080'}, {'http': 'http://156.239.49.98:3128'}, {'http': 'http://206.189.12.206:80'}, {'http': 'http://161.123.33.40:6063'}, {'http': 'http://104.207.49.111:3128'}, {'http': 'http://104.207.57.174:3128'}, {'http': 'http://142.54.160.122:17077'}, {'http': 'http://104.165.169.120:3128'}, {'http': 'http://104.164.183.59:3128'}, {'http': 'http://104.165.127.190:3128'}, {'http': 'http://104.207.62.36:3128'}, {'http': 'http://154.201.36.10:3128'}, {'http': 'http://104.207.40.80:3128'}, {'http': 'http://104.207.47.139:3128'}, {'http': 'http://104.164.183.103:3128'}, {'http': 'http://154.202.99.229:3128'}, {'http': 'http://206.206.73.120:6736'}, {'http': 'http://45.61.125.170:6181'}, {'http': 'http://154.202.115.31:3128'}, {'http': 'http://104.207.51.21:3128'}, {'http': 'http://156.239.48.220:3128'}, {'http': 'http://45.61.124.71:6400'}, {'http': 'http://45.185.163.111:999'}, {'http': 'http://104.207.43.69:3128'}, {'http': 'http://156.239.52.230:3128'}, {'http': 'http://104.238.50.174:6720'}, {'http': 'http://104.143.251.150:6412'}, {'http': 'http://102.0.9.116:8080'}, {'http': 'http://104.207.54.132:3128'}, {'http': 'http://104.233.26.210:6048'}, {'http': 'http://161.123.154.30:6560'}, {'http': 'http://156.239.53.152:3128'}, {'http': 'http://104.207.62.227:3128'}, {'http': 'http://82.145.209.253:80'}, {'http': 'http://154.202.107.212:3128'}, {'http': 'http://156.239.48.245:3128'}, {'http': 'http://154.202.113.195:3128'}, {'http': 'http://104.245.244.25:6465'}, {'http': 'http://43.245.116.210:6725'}, {'http': 'http://104.252.131.86:3128'}, {'http': 'http://142.111.245.240:6107'}, {'http': 'http://154.202.113.171:3128'}, {'http': 'http://43.245.116.210:6725'}, {'http': 'http://104.207.62.75:3128'}, {'http': 'http://104.207.52.217:3128'}, {'http': 'http://45.127.248.110:5111'}, {'http': 'http://173.211.0.163:6656'}, {'http': 'http://23.94.138.161:6435'}, {'http': 'http://207.244.217.99:6646'}, {'http': 'http://45.61.124.161:6490'}, {'http': 'http://104.143.248.143:6753'}, {'http': 'http://104.207.61.4:3128'}, {'http': 'http://206.206.73.120:6736'}, {'http': 'http://104.165.169.123:3128'}, {'http': 'http://154.201.36.37:3128'}, {'http': 'http://104.164.183.109:3128'}, {'http': 'http://104.207.35.68:3128'}, {'http': 'http://156.239.53.176:3128'}, {'http': 'http://104.245.244.25:6465'}, {'http': 'http://138.197.148.215:80'}, {'http': 'http://104.207.42.146:3128'}, {'http': 'http://103.169.131.18:8080'}, {'http': 'http://104.207.46.31:3128'}, {'http': 'http://104.207.40.242:3128'}, {'http': 'http://103.156.15.244:8080'}, {'http': 'http://104.207.43.152:3128'}, {'http': 'http://104.164.183.103:3128'}, {'http': 'http://154.202.114.222:3128'}, {'http': 'http://156.239.55.141:3128'}, {'http': 'http://64.64.115.15:5650'}, {'http': 'http://104.164.183.241:3128'}, {'http': 'http://154.202.114.166:3128'}, {'http': 'http://104.207.47.155:3128'}, {'http': 'http://104.207.32.210:3128'}, {'http': 'http://47.119.22.156:3128'}, {'http': 'http://104.207.50.22:3128'}, {'http': 'http://104.207.61.243:3128'}, {'http': 'http://198.23.147.76:5091'}, {'http': 'http://104.207.44.125:3128'}, {'http': 'http://154.202.107.212:3128'}, {'http': 'http://39.102.211.162:3128'}, {'http': 'http://154.202.123.248:3128'}, {'http': 'http://154.30.251.9:5150'}, {'http': 'http://156.239.52.94:3128'}, {'http': 'http://38.156.15.160:999'}, {'http': 'http://117.40.32.133:8080'}, {'http': 'http://104.207.32.155:3128'}, {'http': 'http://154.202.115.11:3128'}, {'http': 'http://118.68.249.51:1445'}, {'http': 'http://104.164.183.185:3128'}, {'http': 'http://51.210.216.54:80'}, {'http': 'http://154.202.117.171:3128'}, {'http': 'http://156.239.48.72:3128'}, {'http': 'http://104.207.44.86:3128'}, {'http': 'http://104.207.39.193:3128'}, {'http': 'http://104.252.131.223:3128'}, {'http': 'http://45.61.125.222:6233'}, {'http': 'http://156.239.52.179:3128'}, {'http': 'http://104.207.34.74:3128'}, {'http': 'http://104.207.35.189:3128'}, {'http': 'http://104.207.39.77:3128'}, {'http': 'http://91.192.33.52:43801'}, {'http': 'http://104.207.40.48:3128'}, {'http': 'http://156.239.55.15:3128'}, {'http': 'http://104.207.60.97:3128'}, {'http': 'http://154.201.36.18:3128'}, {'http': 'http://104.252.131.14:3128'}, {'http': 'http://154.202.124.23:3128'}, {'http': 'http://64.64.115.132:5767'}, {'http': 'http://159.65.77.168:8585'}, {'http': 'http://154.202.118.6:3128'}, {'http': 'http://154.202.117.180:3128'}, {'http': 'http://64.64.118.5:6588'}, {'http': 'http://47.90.205.231:33333'}, {'http': 'http://103.13.204.19:8085'}, {'http': 'http://104.207.45.136:3128'}, {'http': 'http://104.207.41.187:3128'}, {'http': 'http://38.154.194.85:9498'}, {'http': 'http://104.164.183.213:3128'}, {'http': 'http://104.207.37.80:3128'}, {'http': 'http://65.20.233.204:9090'}, {'http': 'http://104.239.105.19:6549'}, {'http': 'http://104.207.56.9:3128'}, {'http': 'http://154.203.132.49:8090'}, {'http': 'http://156.239.48.193:3128'}, {'http': 'http://104.207.46.56:3128'}, {'http': 'http://60.205.132.71:80'}, {'http': 'http://103.93.93.220:3127'}, {'http': 'http://45.61.125.48:6059'}, {'http': 'http://104.207.47.21:3128'}, {'http': 'http://104.239.78.247:6192'}, {'http': 'http://185.217.143.96:80'}, {'http': 'http://154.202.99.189:3128'}, {'http': 'http://64.227.6.0:4003'}, {'http': 'http://104.207.44.151:3128'}, {'http': 'http://104.252.131.103:3128'}, {'http': 'http://45.43.167.84:6266'}, {'http': 'http://104.207.59.87:3128'}, {'http': 'http://104.207.53.144:3128'}, {'http': 'http://142.44.163.98:80'}, {'http': 'http://144.86.187.37:3129'}, {'http': 'http://104.207.43.130:3128'}, {'http': 'http://104.207.58.100:3128'}, {'http': 'http://45.41.179.80:6615'}, {'http': 'http://104.252.131.243:3128'}, {'http': 'http://89.32.200.3:6459'}, {'http': 'http://104.207.41.233:3128'}, {'http': 'http://104.239.78.52:5997'}, {'http': 'http://104.207.45.19:3128'}, {'http': 'http://211.128.96.206:80'}, {'http': 'http://177.70.174.103:8080'}, {'http': 'http://45.141.83.183:6547'}, {'http': 'http://82.97.215.240:80'}, {'http': 'http://154.202.112.178:3128'}, {'http': 'http://104.207.62.4:3128'}, {'http': 'http://47.250.11.111:9098'}, {'http': 'http://104.207.34.210:3128'}, {'http': 'http://152.166.69.34:8080'}, {'http': 'http://104.207.40.213:3128'}, {'http': 'http://104.207.40.221:3128'}, {'http': 'http://104.207.52.254:3128'}, {'http': 'http://164.163.185.199:80'}, {'http': 'http://104.207.57.211:3128'}, {'http': 'http://104.252.131.3:3128'}, {'http': 'http://104.165.169.68:3128'}, {'http': 'http://110.41.132.93:12121'}, {'http': 'http://154.202.127.208:3128'}, {'http': 'http://184.174.27.55:6278'}, {'http': 'http://104.207.41.86:3128'}, {'http': 'http://198.46.161.131:5181'}, {'http': 'http://206.206.118.104:6342'}, {'http': 'http://156.239.52.166:3128'}, {'http': 'http://104.165.169.233:3128'}, {'http': 'http://154.202.118.28:3128'}, {'http': 'http://47.251.87.199:8080'}, {'http': 'http://104.252.131.241:3128'}]\n"
     ]
    }
   ],
   "source": [
    "proxy_num=300\n",
    "proxy_manager = util.ProxyManager(\"http://list.didsoft.com/get?email=997893314@qq.com&pass=yrh93b&pid=http3000&showcountry=no\",file_path='proxies.txt',headers = headers,proxy_num=proxy_num)\n",
    "\n",
    "#获取一下代理\n",
    "print('第一次获取代理，需要几分钟验证代理可用性')\n",
    "proxy_manager.get_proxies()\n",
    "\n",
    "# 使用 threading.Timer 延迟启动代理更新进程\n",
    "interval = 1800\n",
    "timer = threading.Timer(interval, util.start_proxy_update_process, args=(proxy_manager, interval))\n",
    "timer.start()"
   ]
  },
  {
   "cell_type": "markdown",
   "metadata": {},
   "source": [
    "# 核心代码"
   ]
  },
  {
   "cell_type": "code",
   "execution_count": 14,
   "metadata": {},
   "outputs": [],
   "source": [
    "# 读取Excel文件\n",
    "df = pd.read_excel('forum_pages.xlsx')\n",
    "# 定义函数，生成指定范围内页码的URL列表\n",
    "def generate_urls(url1, url2):\n",
    "    # 提取url1和url2中的页码\n",
    "    start_page = int(url1.split('-o')[1].split('-')[0])\n",
    "    end_page = int(url2.split('-o')[1].split('-')[0])\n",
    "    \n",
    "    # 确保start_page小于end_page\n",
    "    if start_page > end_page:\n",
    "        start_page, end_page = end_page, start_page\n",
    "    \n",
    "    # 生成从start_page到end_page，每20页的URL\n",
    "    urls = []\n",
    "    for page in range(start_page, end_page + 1, 20):\n",
    "        new_url = url1.split('-o')[0] + f\"-o{page}-\" + url1.split('-o')[1].split('-')[1]\n",
    "        urls.append(new_url)\n",
    "    \n",
    "    # 确保包含终点\n",
    "    if end_page not in [page for page in range(start_page, end_page + 1, 20)]:\n",
    "        new_url = url1.split('-o')[0] + f\"-o{end_page}-\" + url1.split('-o')[1].split('-')[1]\n",
    "        urls.append(new_url)\n",
    "    \n",
    "    return urls\n",
    "\n",
    "# 创建一个列表存储所有州的JSON对象\n",
    "states_urls = []\n",
    "\n",
    "# 遍历每一行数据，生成每个州的所有URL\n",
    "for index, row in df.iterrows():\n",
    "    state = row['state']\n",
    "    url1 = row['url1']\n",
    "    url2 = row['url2']\n",
    "    generated_urls = generate_urls(url1, url2)\n",
    "    state_json = {\n",
    "        \"state\": state,\n",
    "        \"urls\": generated_urls\n",
    "    }\n",
    "    states_urls.append(state_json)"
   ]
  },
  {
   "cell_type": "code",
   "execution_count": 15,
   "metadata": {},
   "outputs": [],
   "source": [
    "# 创建一个函数来处理每个topic_path的下载和保存\n",
    "def process_topic(topic_path, state_folder, proxy_manager):\n",
    "    try:\n",
    "        proxy = util.get_random_proxy(proxies=proxy_manager.proxies)\n",
    "        topic_html = util.fetch_data(proxy_manager, topic_path, proxy)\n",
    "        \n",
    "        if topic_html:\n",
    "            topic_filename = os.path.join(state_folder, \"topics\", topic_path.replace(\"https://www.tripadvisor.com/\", \"\").replace(\"/\", \"_\"))\n",
    "            with open(topic_filename, 'w', encoding='utf-8') as f:\n",
    "                f.write(topic_html)\n",
    "    except Exception as e:\n",
    "        print(f\"An error occurred while processing topic {topic_path}: {e}\")"
   ]
  },
  {
   "cell_type": "code",
   "execution_count": 16,
   "metadata": {},
   "outputs": [
    {
     "name": "stdout",
     "output_type": "stream",
     "text": [
      "United_Kingdom completed\n",
      "{'http': 'http://154.201.36.37:3128'} Request error: HTTPSConnectionPool(host='www.tripadvisor.com', port=443): Read timed out. (read timeout=15)\n",
      "{'http': 'http://104.165.127.45:3128'} Request error: HTTPSConnectionPool(host='www.tripadvisor.com', port=443): Max retries exceeded with url: /ShowForum-g187070-i12-o28870-France.html (Caused by ConnectTimeoutError(<urllib3.connection.HTTPSConnection object at 0x13E1AC28>, 'Connection to www.tripadvisor.com timed out. (connect timeout=5)'))\n",
      "France completed\n",
      "Germany completed\n"
     ]
    }
   ],
   "source": [
    "for state_url in states_urls:\n",
    "    # 创建以state_url.state命名的文件夹，如果有则不重新创建\n",
    "    folder_name = f\"./{state_url['state']}\"\n",
    "    os.makedirs(folder_name, exist_ok=True)\n",
    "    os.makedirs(f\"./{state_url['state']}/topics\", exist_ok=True)\n",
    "    # 对于每一个页面\n",
    "    for url in state_url['urls']:\n",
    "        # print(url)\n",
    "        proxy = util.get_random_proxy(proxies=proxy_manager.proxies)\n",
    "        # 爬取这个论坛页面\n",
    "        html = util.fetch_data(proxy_manager, url, proxy)\n",
    "\n",
    "        # 对于这个论坛中的每一个topic\n",
    "        soup = BeautifulSoup(html,'html.parser')\n",
    "        topic_path_list=[]\n",
    "        tds = soup.find_all('a', onclick=lambda x: 'setPID(34603)' in x if x else False) \n",
    "        for td in tds:  \n",
    "            href = td.get('href')\n",
    "            td['href'] = f\"./topics{href}\"\n",
    "            topic_path = 'https://www.tripadvisor.com'+ href\n",
    "            topic_path_list.append(topic_path)\n",
    "            # 使用 ProcessPoolExecutor 并发处理 topic_path_list\n",
    "        with open(os.path.join(folder_name,url.replace(\"https://www.tripadvisor.com/\",\"\")),'w',encoding='utf-8') as f:\n",
    "            f.write(str(soup))\n",
    "            \n",
    "        # 并发处理每个topic_path\n",
    "        with concurrent.futures.ThreadPoolExecutor() as executor:\n",
    "            futures = [executor.submit(process_topic, topic_path, folder_name, proxy_manager) for topic_path in topic_path_list]\n",
    "            for future in concurrent.futures.as_completed(futures):\n",
    "                future.result()  # 处理可能的异常            \n",
    "    print(state_url['state']+' completed')"
   ]
  },
  {
   "cell_type": "code",
   "execution_count": null,
   "metadata": {},
   "outputs": [],
   "source": []
  }
 ],
 "metadata": {
  "kernelspec": {
   "display_name": "Python 3",
   "language": "python",
   "name": "python3"
  },
  "language_info": {
   "codemirror_mode": {
    "name": "ipython",
    "version": 3
   },
   "file_extension": ".py",
   "mimetype": "text/x-python",
   "name": "python",
   "nbconvert_exporter": "python",
   "pygments_lexer": "ipython3",
   "version": "3.8.2"
  }
 },
 "nbformat": 4,
 "nbformat_minor": 2
}
